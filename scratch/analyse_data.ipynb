{
 "cells": [
  {
   "cell_type": "code",
   "execution_count": 1,
   "id": "ad4d0283",
   "metadata": {},
   "outputs": [],
   "source": [
    "import os\n",
    "from random import shuffle\n",
    "\n",
    "import matplotlib.pyplot as plt\n",
    "import numpy as np\n",
    "import torch\n",
    "from datasets import load_dataset\n",
    "from torch import Tensor\n",
    "from torch.nn.utils.rnn import pad_sequence\n",
    "from torch.utils.data import DataLoader\n",
    "\n",
    "from attention_recreation.model import EncoderDecoder, make_decoder, make_encoder, make_input_id_encoder\n",
    "from tokenizers import Tokenizer, decoders\n",
    "\n",
    "device = torch.device(\"cuda\" if torch.cuda.is_available() else \"cpu\")"
   ]
  },
  {
   "cell_type": "code",
   "execution_count": 2,
   "id": "5ff32832",
   "metadata": {},
   "outputs": [],
   "source": [
    "BATCH_SIZE = 32"
   ]
  },
  {
   "cell_type": "code",
   "execution_count": null,
   "id": "391d098b",
   "metadata": {},
   "outputs": [],
   "source": [
    "# load data\n",
    "ds = load_dataset(\"Helsinki-NLP/opus-100\", \"de-en\", streaming=False)\n",
    "en_generator = (x[\"translation\"][\"en\"] for x in ds[\"train\"])\n",
    "de_generator = (x[\"translation\"][\"de\"] for x in ds[\"train\"])\n",
    "\n",
    "# get tokenizers\n",
    "en_tokenizer: Tokenizer = Tokenizer.from_file(\"../tokenizers/basic_en_tokenizer.json\")\n",
    "de_tokenizer: Tokenizer = Tokenizer.from_file(\"../tokenizers/basic_de_tokenizer.json\")\n",
    "\n",
    "\n",
    "# Preprocess and tokenize\n",
    "def tokenize(example):\n",
    "    en_encoded = en_tokenizer.encode(example[\"translation\"][\"en\"])\n",
    "    de_encoded = de_tokenizer.encode(example[\"translation\"][\"de\"])\n",
    "    return {\"en_input_ids\": en_encoded.ids, \"de_input_ids\": de_encoded.ids, \"en_length\": len(en_encoded.ids)}\n",
    "\n",
    "tokenized_ds = ds.map(tokenize, remove_columns=\"translation\", num_proc=os.cpu_count())\n",
    "# filter out very long and short sentences they appear to be bad!\n",
    "tokenized_ds = tokenized_ds.filter(lambda x: (x[\"en_length\"] >= 4) & (x[\"en_length\"] <= 45), num_proc=os.cpu_count())\n",
    "\n",
    "en_pad_id = en_tokenizer.token_to_id(\"[PAD]\")\n",
    "de_pad_id = de_tokenizer.token_to_id(\"[PAD]\")\n",
    "\n",
    "train_en_lengths = tokenized_ds[\"train\"][\"en_length\"]"
   ]
  },
  {
   "cell_type": "code",
   "execution_count": 6,
   "id": "352dcf7a",
   "metadata": {},
   "outputs": [],
   "source": [
    "class BatchSampler:\n",
    "    def __init__(self, lengths, batch_size):\n",
    "        \"\"\"Shuffle idea taken from https://pi-tau.github.io/posts/transformer/#token-embedding-layer\"\"\"\n",
    "        self.lengths = lengths\n",
    "        self.batch_size = batch_size\n",
    "\n",
    "    def __iter__(self):\n",
    "        indicies = list(range(len(self.lengths)))\n",
    "        shuffle(indicies)\n",
    "\n",
    "        # yeild a pool of size 200 batch size\n",
    "        step = 200 * self.batch_size\n",
    "        for pool_start in range(0, len(self.lengths), step):\n",
    "            pool = indicies[pool_start : pool_start + step]\n",
    "            pool_sorted_by_lengths = sorted(pool, key=lambda i: self.lengths[i])\n",
    "\n",
    "            for i in range(0, step, self.batch_size):\n",
    "                yield pool_sorted_by_lengths[i : i + self.batch_size]\n",
    "\n",
    "    def __len__(self):\n",
    "        return len(self.lengths) // self.batch_size\n",
    "    \n",
    "\n",
    "def collate_fn(batch):\n",
    "    seq_en_token_ids = [Tensor(x[\"en_input_ids\"]) for x in batch]\n",
    "    en_tokens_padded = pad_sequence(seq_en_token_ids, batch_first=True, padding_value=en_pad_id)\n",
    "    \n",
    "    seq_de_token_ids = [Tensor(x[\"de_input_ids\"]) for x in batch]\n",
    "    de_tokens_padded = pad_sequence(seq_de_token_ids, batch_first=True, padding_value=de_pad_id)\n",
    "\n",
    "    return en_tokens_padded, de_tokens_padded"
   ]
  },
  {
   "cell_type": "code",
   "execution_count": 15,
   "id": "74dc2c9f",
   "metadata": {},
   "outputs": [],
   "source": [
    "dataloader = DataLoader(\n",
    "    dataset = tokenized_ds[\"train\"].remove_columns(\"en_length\").with_format(\"torch\", device=device),\n",
    "    batch_sampler=BatchSampler(train_en_lengths, BATCH_SIZE),\n",
    "    collate_fn=collate_fn,\n",
    ")\n",
    "\n",
    "for en_tokens_padded, de_tokens_padded in dataloader:\n",
    "    break"
   ]
  },
  {
   "cell_type": "code",
   "execution_count": 13,
   "id": "8ba70891",
   "metadata": {},
   "outputs": [
    {
     "name": "stdout",
     "output_type": "stream",
     "text": [
      "[460076, 529046, 426529, 574394, 353106, 376670, 507748, 814520, 68891, 268197, 516605, 526677, 387437, 187207, 612297, 532844, 641400, 73546, 634369, 263645, 15392, 807117, 722845, 816952, 326695, 831196, 610207, 613146, 48924, 5970, 286259, 57196]\n",
      "{'translation': {'de': 'Schlechte Tisch-Selektion. Schau in die Lobby.', 'en': '31. Be sure you know the rules of the game.'}}\n"
     ]
    }
   ],
   "source": [
    "batch_sampler = BatchSampler(train_en_lengths, BATCH_SIZE)\n",
    "for index_list in batch_sampler:\n",
    "    print(index_list)\n",
    "    print(ds[\"train\"][index_list[0]])\n",
    "    break"
   ]
  },
  {
   "cell_type": "code",
   "execution_count": 17,
   "id": "ef970a15",
   "metadata": {},
   "outputs": [
    {
     "data": {
      "text/plain": [
       "tensor([[15350,  2316,  2420,  3294],\n",
       "        [ 3486,    29,    59, 28600],\n",
       "        [ 4834,  2272,  2585,    17],\n",
       "        [ 2937,  2167,  5142,    17],\n",
       "        [ 6224,    22,    18,    23],\n",
       "        [ 2450,  2167,  5737,    34],\n",
       "        [ 2394,  8128,  2204,    17],\n",
       "        [ 2892,  2266,  4061,    17],\n",
       "        [13379,  3007,  2274,  2589],\n",
       "        [ 7332,  2356,  3624,    17],\n",
       "        [14858,   784, 14387,    12],\n",
       "        [ 5531,  4034,  2492,     4],\n",
       "        [ 2259,  5571,  3448,  2881],\n",
       "        [ 3614,  2607,  2173,    17],\n",
       "        [ 5169,    68,  2440,    34],\n",
       "        [ 7723,  5385,     9,  5352],\n",
       "        [ 3113,  3188,  8161,    34],\n",
       "        [ 2350,    17,  3307,  2764],\n",
       "        [24925,    11,    20,    12],\n",
       "        [12955,  3112,    92,     4],\n",
       "        [ 2821,    15,  2955,     4],\n",
       "        [ 2821,    15,  5622,    17],\n",
       "        [   16,  3891,  2582,    17],\n",
       "        [ 8568,    16,  7492,     4],\n",
       "        [10502,  2178,    68,  9182],\n",
       "        [16646,  2962, 20948, 26220],\n",
       "        [ 3570,  2173,  2180,    34],\n",
       "        [ 8315,    15,  2310,     4],\n",
       "        [   44,  4913,  2492,    17],\n",
       "        [   16,    47, 11580,    17],\n",
       "        [ 7575,  2163,  3938,  6008],\n",
       "        [ 3025,    11,  8011,    12]], device='cuda:0')"
      ]
     },
     "execution_count": 17,
     "metadata": {},
     "output_type": "execute_result"
    }
   ],
   "source": [
    "en_tokens_padded"
   ]
  },
  {
   "cell_type": "code",
   "execution_count": 18,
   "id": "ea86187d",
   "metadata": {},
   "outputs": [],
   "source": [
    "data = tokenized_ds[\"train\"][\"en_length\"]"
   ]
  },
  {
   "cell_type": "code",
   "execution_count": null,
   "id": "cc55342a",
   "metadata": {},
   "outputs": [
    {
     "data": {
      "image/png": "[encoded data removed]",
      "text/plain": [
       "<Figure size 640x480 with 1 Axes>"
      ]
     },
     "metadata": {},
     "output_type": "display_data"
    }
   ],
   "source": [
    "# Calculate 75th percentile - no longer accurate since I filtered\n",
    "q3 = np.percentile(data, 75)\n",
    "\n",
    "# Create histogram\n",
    "plt.hist(data, bins=range(min(data), max(data) + 2), edgecolor='black', align='left')\n",
    "plt.title(\"Histogram up to 3rd Quartile\")\n",
    "plt.xlabel(\"Value\")\n",
    "plt.ylabel(\"Frequency\")\n",
    "plt.grid(axis='y', linestyle='--', alpha=0.7)\n",
    "\n",
    "# Set x-axis max to Q3 + 10\n",
    "plt.xlim(left=min(data), right=q3+10)\n",
    "plt.show()\n"
   ]
  },
  {
   "cell_type": "code",
   "execution_count": 8,
   "id": "7be596e7",
   "metadata": {},
   "outputs": [
    {
     "name": "stdout",
     "output_type": "stream",
     "text": [
      "['It', \"'\", 's', 'gre', 'ed', 'that', 'it', \"'\", 's', 'gonna', 'be', 'the', 'death', 'of', 'you', ',', \"'\", 'cause', 'you', '...'] 20\n",
      "['Ve', 'ga', '.'] 3\n",
      "['Just', 'say', 'when', '.'] 4\n",
      "['-', 'Wait', '.'] 3\n",
      "['I', 'don', \"'\", 't', 'wanna', 'be', 'here', '.'] 8\n",
      "['Okay', ',', 'so', '90', 'percent', 'of', 'my', 'photographic', 'process', 'is', ',', 'in', 'fact', ',', 'not', 'photographic', '.'] 17\n",
      "['So', 'lovely', '.'] 3\n",
      "['Thank', 'you', ',', 'colonel', '.'] 5\n",
      "['Martin', '!'] 2\n",
      "['Do', 'I', 'have', 'to', '?'] 5\n",
      "['Please', 'sit', '.'] 3\n",
      "['Leo', '!'] 2\n",
      "['No', ',', 'honestly', ',', 'I', 'think', 'that', 'you', 'should', 'find', 'out', 'What', \"'\", 's', 'going', 'on', 'with', 'your', 'dad', '.'] 20\n",
      "['How', 'you', 'holding', 'up', '?'] 5\n",
      "['-', 'Let', \"'\", 's', 'go', '.'] 6\n",
      "['I', 'am', 'really', 'allowed', 'to', 'get', 'up', ',', 'Doctor', '?'] 10\n",
      "['-', 'What', 'will', 'you', 'do', 'with', 'it', '?'] 8\n",
      "['-', 'Can', 'we', 'talk', '?'] 5\n",
      "['Get', 'down', '!'] 3\n",
      "['And', 'if', 'the', 'dis', 'ruption', 'was', 'merely', 'because', 'Pam', 'ela', 'R', 'aker', 'was', 'a', 'Republican', '?'] 16\n",
      "['-', 'Sure', '.'] 3\n",
      "['Whereas', ':'] 2\n",
      "['We', 'were', 'watching', 'the', 'tv', '.'] 6\n",
      "['Thank', 'you', '.'] 3\n",
      "['06', ':', '35'] 3\n",
      "['01', ':', '01'] 3\n",
      "['Excellent', ','] 2\n",
      "['Oh', '.'] 2\n",
      "['1st', 'day'] 2\n",
      "['Article', '32'] 2\n",
      "['Goodbye', '.'] 2\n",
      "['Values'] 1\n"
     ]
    }
   ],
   "source": [
    "for token_list, length in zip(processed_ds[\"train\"][:BATCH_SIZE][\"en_tokenized\"], processed_ds[\"train\"][:BATCH_SIZE][\"en_length\"]):\n",
    "    print(token_list, length)"
   ]
  },
  {
   "cell_type": "markdown",
   "id": "201b5ae4",
   "metadata": {},
   "source": [
    "model stuff"
   ]
  },
  {
   "cell_type": "code",
   "execution_count": 3,
   "id": "873e726f",
   "metadata": {},
   "outputs": [],
   "source": [
    "d_model=512\n",
    "d_inner_layer=2048\n",
    "n_heads=8\n",
    "n_encoder_stacks=7\n",
    "n_decoder_stacks=7\n",
    "source_vocab_size=en_tokenizer.get_vocab_size()\n",
    "target_vocab_size = de_tokenizer.get_vocab_size()"
   ]
  },
  {
   "cell_type": "code",
   "execution_count": 4,
   "id": "22a59b78",
   "metadata": {},
   "outputs": [],
   "source": [
    "encoder_decoder_model = EncoderDecoder(\n",
    "    d_model=d_model,\n",
    "    d_inner_layer=d_inner_layer,\n",
    "    n_heads=n_heads,\n",
    "    n_encoder_stacks=n_encoder_stacks,\n",
    "    n_decoder_stacks=n_decoder_stacks,\n",
    "    source_vocab_size=source_vocab_size,\n",
    "    target_vocab_size=target_vocab_size,\n",
    "    input_id_encoder_factory=make_input_id_encoder,\n",
    "    encoder_factory=make_encoder,\n",
    "    decoder_factory=make_decoder,\n",
    ")"
   ]
  },
  {
   "cell_type": "code",
   "execution_count": 5,
   "id": "57d094ae",
   "metadata": {},
   "outputs": [
    {
     "data": {
      "text/plain": [
       "EncoderDecoder(\n",
       "  (source_id_encoder): InputIdEncoder(\n",
       "    (token_encoder): Embedding(30000, 512)\n",
       "    (positional_encoder): SinePositionEncoder(\n",
       "      (dropout): Dropout(p=0.1, inplace=False)\n",
       "    )\n",
       "  )\n",
       "  (target_id_encoder): InputIdEncoder(\n",
       "    (token_encoder): Embedding(30000, 512)\n",
       "    (positional_encoder): SinePositionEncoder(\n",
       "      (dropout): Dropout(p=0.1, inplace=False)\n",
       "    )\n",
       "  )\n",
       "  (encoder): Encoder(\n",
       "    (layers): ModuleList(\n",
       "      (0-6): 7 x EncoderLayer(\n",
       "        (mha_layer_norm): LayerNorm((512,), eps=1e-05, elementwise_affine=True)\n",
       "        (mha_sublayer): MultiheadAttention(\n",
       "          (out_proj): NonDynamicallyQuantizableLinear(in_features=512, out_features=512, bias=True)\n",
       "        )\n",
       "        (mha_dropout): Dropout(p=0.1, inplace=False)\n",
       "        (mlp_layer_norm): LayerNorm((512,), eps=1e-05, elementwise_affine=True)\n",
       "        (mlp_sublayer): Sequential(\n",
       "          (0): Linear(in_features=512, out_features=2048, bias=True)\n",
       "          (1): Linear(in_features=2048, out_features=512, bias=True)\n",
       "          (2): GELU(approximate='none')\n",
       "        )\n",
       "        (mlp_dropout): Dropout(p=0.1, inplace=False)\n",
       "      )\n",
       "    )\n",
       "    (final_layer_norm): LayerNorm((512,), eps=1e-05, elementwise_affine=True)\n",
       "  )\n",
       "  (decoder): Decoder(\n",
       "    (layers): ModuleList(\n",
       "      (0-6): 7 x DecoderLayer(\n",
       "        (self_mha_layer_norm): LayerNorm((512,), eps=1e-05, elementwise_affine=True)\n",
       "        (self_mha_sublayer): MultiheadAttention(\n",
       "          (out_proj): NonDynamicallyQuantizableLinear(in_features=512, out_features=512, bias=True)\n",
       "        )\n",
       "        (self_mha_dropout): Dropout(p=0.1, inplace=False)\n",
       "        (cross_mha_layer_norm): LayerNorm((512,), eps=1e-05, elementwise_affine=True)\n",
       "        (cross_mha_layer_sublayer): MultiheadAttention(\n",
       "          (out_proj): NonDynamicallyQuantizableLinear(in_features=512, out_features=512, bias=True)\n",
       "        )\n",
       "        (cross_mha_dropout): Dropout(p=0.1, inplace=False)\n",
       "        (mlp_layer_norm): LayerNorm((512,), eps=1e-05, elementwise_affine=True)\n",
       "        (mlp_sublayer): Sequential(\n",
       "          (0): Linear(in_features=512, out_features=2048, bias=True)\n",
       "          (1): Linear(in_features=2048, out_features=512, bias=True)\n",
       "          (2): GELU(approximate='none')\n",
       "        )\n",
       "        (mlp_dropout): Dropout(p=0.1, inplace=False)\n",
       "      )\n",
       "    )\n",
       "    (final_layer_norm): LayerNorm((512,), eps=1e-05, elementwise_affine=True)\n",
       "  )\n",
       ")"
      ]
     },
     "execution_count": 5,
     "metadata": {},
     "output_type": "execute_result"
    }
   ],
   "source": [
    "\n",
    "encoder_decoder_model"
   ]
  }
 ],
 "metadata": {
  "kernelspec": {
   "display_name": "attention-recreation (3.12.10)",
   "language": "python",
   "name": "python3"
  },
  "language_info": {
   "codemirror_mode": {
    "name": "ipython",
    "version": 3
   },
   "file_extension": ".py",
   "mimetype": "text/x-python",
   "name": "python",
   "nbconvert_exporter": "python",
   "pygments_lexer": "ipython3",
   "version": "3.12.10"
  }
 },
 "nbformat": 4,
 "nbformat_minor": 5
}
