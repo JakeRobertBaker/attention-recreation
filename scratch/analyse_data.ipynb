{
 "cells": [
  {
   "cell_type": "code",
   "execution_count": null,
   "id": "ad4d0283",
   "metadata": {},
   "outputs": [],
   "source": [
    "import os\n",
    "from random import shuffle\n",
    "\n",
    "import matplotlib.pyplot as plt\n",
    "import numpy as np\n",
    "import torch\n",
    "from datasets import load_dataset\n",
    "from torch import Tensor\n",
    "from torch.nn.utils.rnn import pad_sequence\n",
    "from torch.utils.data import DataLoader\n",
    "\n",
    "from attention_recreation.model import EncoderDecoder, make_decoder, make_encoder, make_input_id_encoder\n",
    "from tokenizers import Tokenizer, decoder\n"
   ]
  },
  {
   "cell_type": "code",
   "execution_count": null,
   "id": "5ff32832",
   "metadata": {},
   "outputs": [],
   "source": [
    "device = torch.device(\"cuda\" if torch.cuda.is_available() else \"cpu\")\n",
    "BATCH_SIZE = 32"
   ]
  },
  {
   "cell_type": "code",
   "execution_count": 3,
   "id": "391d098b",
   "metadata": {},
   "outputs": [],
   "source": [
    "# load data\n",
    "ds = load_dataset(\"Helsinki-NLP/opus-100\", \"de-en\", streaming=False)\n",
    "en_generator = (x[\"translation\"][\"en\"] for x in ds[\"train\"])\n",
    "de_generator = (x[\"translation\"][\"de\"] for x in ds[\"train\"])\n",
    "\n",
    "# get tokenizers\n",
    "en_tokenizer: Tokenizer = Tokenizer.from_file(\"../tokenizers/basic_en_tokenizer.json\")\n",
    "de_tokenizer: Tokenizer = Tokenizer.from_file(\"../tokenizers/basic_de_tokenizer.json\")\n",
    "\n",
    "\n",
    "# Preprocess and tokenize\n",
    "def tokenize(example):\n",
    "    en_encoded = en_tokenizer.encode(example[\"translation\"][\"en\"])\n",
    "    de_encoded = de_tokenizer.encode(example[\"translation\"][\"de\"])\n",
    "    return {\"en_input_ids\": en_encoded.ids, \"de_input_ids\": de_encoded.ids, \"en_length\": len(en_encoded.ids)}\n",
    "\n",
    "tokenized_ds = ds.map(tokenize, remove_columns=\"translation\", num_proc=os.cpu_count())\n",
    "# filter out very long and short sentences they appear to be bad!\n",
    "tokenized_ds = tokenized_ds.filter(lambda x: (x[\"en_length\"] >= 4) & (x[\"en_length\"] <= 45), num_proc=os.cpu_count())\n",
    "\n",
    "en_pad_id = en_tokenizer.token_to_id(\"[PAD]\")\n",
    "de_pad_id = de_tokenizer.token_to_id(\"[PAD]\")\n",
    "\n",
    "train_en_lengths = tokenized_ds[\"train\"][\"en_length\"]"
   ]
  },
  {
   "cell_type": "code",
   "execution_count": 4,
   "id": "352dcf7a",
   "metadata": {},
   "outputs": [],
   "source": [
    "class BatchSampler:\n",
    "    def __init__(self, lengths, batch_size):\n",
    "        \"\"\"Shuffle idea taken from https://pi-tau.github.io/posts/transformer/#token-embedding-layer\"\"\"\n",
    "        self.lengths = lengths\n",
    "        self.batch_size = batch_size\n",
    "\n",
    "    def __iter__(self):\n",
    "        indicies = list(range(len(self.lengths)))\n",
    "        shuffle(indicies)\n",
    "\n",
    "        # yeild a pool of size 200 batch size\n",
    "        step = 200 * self.batch_size\n",
    "        for pool_start in range(0, len(self.lengths), step):\n",
    "            pool = indicies[pool_start : pool_start + step]\n",
    "            pool_sorted_by_lengths = sorted(pool, key=lambda i: self.lengths[i])\n",
    "\n",
    "            for i in range(0, step, self.batch_size):\n",
    "                yield pool_sorted_by_lengths[i : i + self.batch_size]\n",
    "\n",
    "    def __len__(self):\n",
    "        return len(self.lengths) // self.batch_size\n",
    "    \n",
    "\n",
    "def collate_fn(batch):\n",
    "    seq_en_token_ids = [Tensor(x[\"en_input_ids\"]) for x in batch]\n",
    "    en_tokens_padded = pad_sequence(seq_en_token_ids, batch_first=True, padding_value=en_pad_id)\n",
    "    \n",
    "    seq_de_token_ids = [Tensor(x[\"de_input_ids\"]) for x in batch]\n",
    "    de_tokens_padded = pad_sequence(seq_de_token_ids, batch_first=True, padding_value=de_pad_id)\n",
    "\n",
    "    return en_tokens_padded, de_tokens_padded"
   ]
  },
  {
   "cell_type": "code",
   "execution_count": 5,
   "id": "74dc2c9f",
   "metadata": {},
   "outputs": [],
   "source": [
    "dataloader = DataLoader(\n",
    "    dataset = tokenized_ds[\"train\"].remove_columns(\"en_length\").with_format(\"torch\", device=device),\n",
    "    batch_sampler=BatchSampler(train_en_lengths, BATCH_SIZE),\n",
    "    collate_fn=collate_fn,\n",
    ")\n",
    "\n",
    "for en_tokens_padded, de_tokens_padded in dataloader:\n",
    "    break"
   ]
  },
  {
   "cell_type": "code",
   "execution_count": 31,
   "id": "03bd366a",
   "metadata": {},
   "outputs": [
    {
     "data": {
      "text/plain": [
       "torch.Size([32, 4])"
      ]
     },
     "execution_count": 31,
     "metadata": {},
     "output_type": "execute_result"
    }
   ],
   "source": [
    "source_key_padding_mask = (en_tokens_padded == en_pad_id)"
   ]
  },
  {
   "cell_type": "code",
   "execution_count": 8,
   "id": "873e726f",
   "metadata": {},
   "outputs": [],
   "source": [
    "d_model=512\n",
    "d_inner_layer=2048\n",
    "n_heads=8\n",
    "n_encoder_stacks=7\n",
    "n_decoder_stacks=7\n",
    "source_vocab_size=en_tokenizer.get_vocab_size()\n",
    "target_vocab_size = de_tokenizer.get_vocab_size()"
   ]
  },
  {
   "cell_type": "code",
   "execution_count": 26,
   "id": "22a59b78",
   "metadata": {},
   "outputs": [],
   "source": [
    "encoder_decoder_model = EncoderDecoder(\n",
    "    d_model=d_model,\n",
    "    d_inner_layer=d_inner_layer,\n",
    "    n_heads=n_heads,\n",
    "    n_encoder_stacks=n_encoder_stacks,\n",
    "    n_decoder_stacks=n_decoder_stacks,\n",
    "    source_vocab_size=source_vocab_size,\n",
    "    target_vocab_size=target_vocab_size,\n",
    "    input_id_encoder_factory=make_input_id_encoder,\n",
    "    encoder_factory=make_encoder,\n",
    "    decoder_factory=make_decoder,\n",
    ").to(device)"
   ]
  },
  {
   "cell_type": "code",
   "execution_count": 32,
   "id": "c31237d1",
   "metadata": {},
   "outputs": [
    {
     "ename": "TypeError",
     "evalue": "dropout(): argument 'input' (position 1) must be Tensor, not tuple",
     "output_type": "error",
     "traceback": [
      "\u001b[31m---------------------------------------------------------------------------\u001b[39m",
      "\u001b[31mTypeError\u001b[39m                                 Traceback (most recent call last)",
      "\u001b[36mCell\u001b[39m\u001b[36m \u001b[39m\u001b[32mIn[32]\u001b[39m\u001b[32m, line 1\u001b[39m\n\u001b[32m----> \u001b[39m\u001b[32m1\u001b[39m \u001b[43mencoder_decoder_model\u001b[49m\u001b[43m.\u001b[49m\u001b[43mforward\u001b[49m\u001b[43m(\u001b[49m\n\u001b[32m      2\u001b[39m \u001b[43m    \u001b[49m\u001b[43mtarget_ids\u001b[49m\u001b[43m=\u001b[49m\u001b[43mde_tokens_padded\u001b[49m\u001b[43m,\u001b[49m\u001b[43m \u001b[49m\u001b[43msource_ids\u001b[49m\u001b[43m=\u001b[49m\u001b[43men_tokens_padded\u001b[49m\u001b[43m,\u001b[49m\u001b[43m \u001b[49m\u001b[43msource_key_padding_mask\u001b[49m\u001b[43m=\u001b[49m\u001b[43msource_key_padding_mask\u001b[49m\n\u001b[32m      3\u001b[39m \u001b[43m)\u001b[49m\n",
      "\u001b[36mFile \u001b[39m\u001b[32m~/attention-recreation/src/attention_recreation/model.py:300\u001b[39m, in \u001b[36mEncoderDecoder.forward\u001b[39m\u001b[34m(self, target_ids, source_ids, source_key_padding_mask)\u001b[39m\n\u001b[32m    297\u001b[39m source = \u001b[38;5;28mself\u001b[39m.source_id_encoder.forward(source_ids)\n\u001b[32m    298\u001b[39m target = \u001b[38;5;28mself\u001b[39m.target_id_encoder.forward(target_ids)\n\u001b[32m--> \u001b[39m\u001b[32m300\u001b[39m encoded_source = \u001b[38;5;28;43mself\u001b[39;49m\u001b[43m.\u001b[49m\u001b[43mencoder\u001b[49m\u001b[43m.\u001b[49m\u001b[43mforward\u001b[49m\u001b[43m(\u001b[49m\n\u001b[32m    301\u001b[39m \u001b[43m    \u001b[49m\u001b[43msource\u001b[49m\u001b[43m=\u001b[49m\u001b[43msource\u001b[49m\u001b[43m,\u001b[49m\n\u001b[32m    302\u001b[39m \u001b[43m    \u001b[49m\u001b[43msource_key_padding_mask\u001b[49m\u001b[43m=\u001b[49m\u001b[43msource_key_padding_mask\u001b[49m\u001b[43m,\u001b[49m\n\u001b[32m    303\u001b[39m \u001b[43m\u001b[49m\u001b[43m)\u001b[49m\n\u001b[32m    305\u001b[39m decoded_target = \u001b[38;5;28mself\u001b[39m.decoder.forward(\n\u001b[32m    306\u001b[39m     target=target,\n\u001b[32m    307\u001b[39m     source=encoded_source,\n\u001b[32m    308\u001b[39m     source_key_padding_mask=source_key_padding_mask,\n\u001b[32m    309\u001b[39m )\n",
      "\u001b[36mFile \u001b[39m\u001b[32m~/attention-recreation/src/attention_recreation/model.py:138\u001b[39m, in \u001b[36mEncoder.forward\u001b[39m\u001b[34m(self, source, source_key_padding_mask)\u001b[39m\n\u001b[32m    128\u001b[39m \u001b[38;5;250m\u001b[39m\u001b[33;03m\"\"\"Apply the Encoder to encoded input IDs.\u001b[39;00m\n\u001b[32m    129\u001b[39m \n\u001b[32m    130\u001b[39m \u001b[33;03mArgs:\u001b[39;00m\n\u001b[32m   (...)\u001b[39m\u001b[32m    135\u001b[39m \u001b[33;03m    Tensor: shape (N, s, d_model)\u001b[39;00m\n\u001b[32m    136\u001b[39m \u001b[33;03m\"\"\"\u001b[39;00m\n\u001b[32m    137\u001b[39m \u001b[38;5;28;01mfor\u001b[39;00m layer \u001b[38;5;129;01min\u001b[39;00m \u001b[38;5;28mself\u001b[39m.layers:\n\u001b[32m--> \u001b[39m\u001b[32m138\u001b[39m     source = \u001b[43mlayer\u001b[49m\u001b[43m.\u001b[49m\u001b[43mforward\u001b[49m\u001b[43m(\u001b[49m\u001b[43msource\u001b[49m\u001b[43m=\u001b[49m\u001b[43msource\u001b[49m\u001b[43m,\u001b[49m\u001b[43m \u001b[49m\u001b[43msource_key_padding_mask\u001b[49m\u001b[43m=\u001b[49m\u001b[43msource_key_padding_mask\u001b[49m\u001b[43m)\u001b[49m\n\u001b[32m    139\u001b[39m \u001b[38;5;66;03m# we apply layer norm before each sublayer, thus need final layer norm after layer[-1]\u001b[39;00m\n\u001b[32m    140\u001b[39m source = \u001b[38;5;28mself\u001b[39m.final_layer_norm(source)\n",
      "\u001b[36mFile \u001b[39m\u001b[32m~/attention-recreation/src/attention_recreation/model.py:96\u001b[39m, in \u001b[36mEncoderLayer.forward\u001b[39m\u001b[34m(self, source, source_key_padding_mask)\u001b[39m\n\u001b[32m     94\u001b[39m x = \u001b[38;5;28mself\u001b[39m.mha_layer_norm(source)\n\u001b[32m     95\u001b[39m y = \u001b[38;5;28mself\u001b[39m.mha_sublayer.forward(query=x, key=x, value=x, key_padding_mask=source_key_padding_mask)\n\u001b[32m---> \u001b[39m\u001b[32m96\u001b[39m y = \u001b[38;5;28;43mself\u001b[39;49m\u001b[43m.\u001b[49m\u001b[43mmha_dropout\u001b[49m\u001b[43m(\u001b[49m\u001b[43my\u001b[49m\u001b[43m)\u001b[49m + x\n\u001b[32m     98\u001b[39m x = \u001b[38;5;28mself\u001b[39m.mlp_layer_norm(y)\n\u001b[32m     99\u001b[39m y = \u001b[38;5;28mself\u001b[39m.mlp_sublayer(x)\n",
      "\u001b[36mFile \u001b[39m\u001b[32m~/attention-recreation/.venv/lib/python3.12/site-packages/torch/nn/modules/module.py:1739\u001b[39m, in \u001b[36mModule._wrapped_call_impl\u001b[39m\u001b[34m(self, *args, **kwargs)\u001b[39m\n\u001b[32m   1737\u001b[39m     \u001b[38;5;28;01mreturn\u001b[39;00m \u001b[38;5;28mself\u001b[39m._compiled_call_impl(*args, **kwargs)  \u001b[38;5;66;03m# type: ignore[misc]\u001b[39;00m\n\u001b[32m   1738\u001b[39m \u001b[38;5;28;01melse\u001b[39;00m:\n\u001b[32m-> \u001b[39m\u001b[32m1739\u001b[39m     \u001b[38;5;28;01mreturn\u001b[39;00m \u001b[38;5;28;43mself\u001b[39;49m\u001b[43m.\u001b[49m\u001b[43m_call_impl\u001b[49m\u001b[43m(\u001b[49m\u001b[43m*\u001b[49m\u001b[43margs\u001b[49m\u001b[43m,\u001b[49m\u001b[43m \u001b[49m\u001b[43m*\u001b[49m\u001b[43m*\u001b[49m\u001b[43mkwargs\u001b[49m\u001b[43m)\u001b[49m\n",
      "\u001b[36mFile \u001b[39m\u001b[32m~/attention-recreation/.venv/lib/python3.12/site-packages/torch/nn/modules/module.py:1750\u001b[39m, in \u001b[36mModule._call_impl\u001b[39m\u001b[34m(self, *args, **kwargs)\u001b[39m\n\u001b[32m   1745\u001b[39m \u001b[38;5;66;03m# If we don't have any hooks, we want to skip the rest of the logic in\u001b[39;00m\n\u001b[32m   1746\u001b[39m \u001b[38;5;66;03m# this function, and just call forward.\u001b[39;00m\n\u001b[32m   1747\u001b[39m \u001b[38;5;28;01mif\u001b[39;00m \u001b[38;5;129;01mnot\u001b[39;00m (\u001b[38;5;28mself\u001b[39m._backward_hooks \u001b[38;5;129;01mor\u001b[39;00m \u001b[38;5;28mself\u001b[39m._backward_pre_hooks \u001b[38;5;129;01mor\u001b[39;00m \u001b[38;5;28mself\u001b[39m._forward_hooks \u001b[38;5;129;01mor\u001b[39;00m \u001b[38;5;28mself\u001b[39m._forward_pre_hooks\n\u001b[32m   1748\u001b[39m         \u001b[38;5;129;01mor\u001b[39;00m _global_backward_pre_hooks \u001b[38;5;129;01mor\u001b[39;00m _global_backward_hooks\n\u001b[32m   1749\u001b[39m         \u001b[38;5;129;01mor\u001b[39;00m _global_forward_hooks \u001b[38;5;129;01mor\u001b[39;00m _global_forward_pre_hooks):\n\u001b[32m-> \u001b[39m\u001b[32m1750\u001b[39m     \u001b[38;5;28;01mreturn\u001b[39;00m \u001b[43mforward_call\u001b[49m\u001b[43m(\u001b[49m\u001b[43m*\u001b[49m\u001b[43margs\u001b[49m\u001b[43m,\u001b[49m\u001b[43m \u001b[49m\u001b[43m*\u001b[49m\u001b[43m*\u001b[49m\u001b[43mkwargs\u001b[49m\u001b[43m)\u001b[49m\n\u001b[32m   1752\u001b[39m result = \u001b[38;5;28;01mNone\u001b[39;00m\n\u001b[32m   1753\u001b[39m called_always_called_hooks = \u001b[38;5;28mset\u001b[39m()\n",
      "\u001b[36mFile \u001b[39m\u001b[32m~/attention-recreation/.venv/lib/python3.12/site-packages/torch/nn/modules/dropout.py:70\u001b[39m, in \u001b[36mDropout.forward\u001b[39m\u001b[34m(self, input)\u001b[39m\n\u001b[32m     69\u001b[39m \u001b[38;5;28;01mdef\u001b[39;00m\u001b[38;5;250m \u001b[39m\u001b[34mforward\u001b[39m(\u001b[38;5;28mself\u001b[39m, \u001b[38;5;28minput\u001b[39m: Tensor) -> Tensor:\n\u001b[32m---> \u001b[39m\u001b[32m70\u001b[39m     \u001b[38;5;28;01mreturn\u001b[39;00m \u001b[43mF\u001b[49m\u001b[43m.\u001b[49m\u001b[43mdropout\u001b[49m\u001b[43m(\u001b[49m\u001b[38;5;28;43minput\u001b[39;49m\u001b[43m,\u001b[49m\u001b[43m \u001b[49m\u001b[38;5;28;43mself\u001b[39;49m\u001b[43m.\u001b[49m\u001b[43mp\u001b[49m\u001b[43m,\u001b[49m\u001b[43m \u001b[49m\u001b[38;5;28;43mself\u001b[39;49m\u001b[43m.\u001b[49m\u001b[43mtraining\u001b[49m\u001b[43m,\u001b[49m\u001b[43m \u001b[49m\u001b[38;5;28;43mself\u001b[39;49m\u001b[43m.\u001b[49m\u001b[43minplace\u001b[49m\u001b[43m)\u001b[49m\n",
      "\u001b[36mFile \u001b[39m\u001b[32m~/attention-recreation/.venv/lib/python3.12/site-packages/torch/nn/functional.py:1425\u001b[39m, in \u001b[36mdropout\u001b[39m\u001b[34m(input, p, training, inplace)\u001b[39m\n\u001b[32m   1422\u001b[39m \u001b[38;5;28;01mif\u001b[39;00m p < \u001b[32m0.0\u001b[39m \u001b[38;5;129;01mor\u001b[39;00m p > \u001b[32m1.0\u001b[39m:\n\u001b[32m   1423\u001b[39m     \u001b[38;5;28;01mraise\u001b[39;00m \u001b[38;5;167;01mValueError\u001b[39;00m(\u001b[33mf\u001b[39m\u001b[33m\"\u001b[39m\u001b[33mdropout probability has to be between 0 and 1, but got \u001b[39m\u001b[38;5;132;01m{\u001b[39;00mp\u001b[38;5;132;01m}\u001b[39;00m\u001b[33m\"\u001b[39m)\n\u001b[32m   1424\u001b[39m \u001b[38;5;28;01mreturn\u001b[39;00m (\n\u001b[32m-> \u001b[39m\u001b[32m1425\u001b[39m     _VF.dropout_(\u001b[38;5;28minput\u001b[39m, p, training) \u001b[38;5;28;01mif\u001b[39;00m inplace \u001b[38;5;28;01melse\u001b[39;00m \u001b[43m_VF\u001b[49m\u001b[43m.\u001b[49m\u001b[43mdropout\u001b[49m\u001b[43m(\u001b[49m\u001b[38;5;28;43minput\u001b[39;49m\u001b[43m,\u001b[49m\u001b[43m \u001b[49m\u001b[43mp\u001b[49m\u001b[43m,\u001b[49m\u001b[43m \u001b[49m\u001b[43mtraining\u001b[49m\u001b[43m)\u001b[49m\n\u001b[32m   1426\u001b[39m )\n",
      "\u001b[31mTypeError\u001b[39m: dropout(): argument 'input' (position 1) must be Tensor, not tuple"
     ]
    }
   ],
   "source": [
    "encoder_decoder_model.forward(\n",
    "    target_ids=de_tokens_padded, source_ids=en_tokens_padded, source_key_padding_mask=source_key_padding_mask\n",
    ")"
   ]
  }
 ],
 "metadata": {
  "kernelspec": {
   "display_name": "attention-recreation (3.12.10)",
   "language": "python",
   "name": "python3"
  },
  "language_info": {
   "codemirror_mode": {
    "name": "ipython",
    "version": 3
   },
   "file_extension": ".py",
   "mimetype": "text/x-python",
   "name": "python",
   "nbconvert_exporter": "python",
   "pygments_lexer": "ipython3",
   "version": "3.12.10"
  }
 },
 "nbformat": 4,
 "nbformat_minor": 5
}
