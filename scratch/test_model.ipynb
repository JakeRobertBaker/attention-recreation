{
 "cells": [
  {
   "cell_type": "code",
   "execution_count": 2,
   "id": "ad4d0283",
   "metadata": {},
   "outputs": [],
   "source": [
    "import os\n",
    "from random import shuffle\n",
    "\n",
    "import matplotlib.pyplot as plt\n",
    "import numpy as np\n",
    "import torch\n",
    "from datasets import load_dataset\n",
    "from torch import Tensor\n",
    "from torch.nn.utils.rnn import pad_sequence\n",
    "from torch.utils.data import DataLoader\n",
    "\n",
    "from attention_recreation.model import EncoderDecoder, make_decoder, make_encoder, make_input_id_encoder\n",
    "from tokenizers import Tokenizer\n"
   ]
  },
  {
   "cell_type": "code",
   "execution_count": 3,
   "id": "5ff32832",
   "metadata": {},
   "outputs": [],
   "source": [
    "device = torch.device(\"cuda\" if torch.cuda.is_available() else \"cpu\")\n",
    "BATCH_SIZE = 32"
   ]
  },
  {
   "cell_type": "code",
   "execution_count": 4,
   "id": "391d098b",
   "metadata": {},
   "outputs": [],
   "source": [
    "# load data\n",
    "ds = load_dataset(\"Helsinki-NLP/opus-100\", \"de-en\", streaming=False)\n",
    "en_generator = (x[\"translation\"][\"en\"] for x in ds[\"train\"])\n",
    "de_generator = (x[\"translation\"][\"de\"] for x in ds[\"train\"])\n",
    "\n",
    "# get tokenizers\n",
    "en_tokenizer: Tokenizer = Tokenizer.from_file(\"../tokenizers/basic_en_tokenizer.json\")\n",
    "de_tokenizer: Tokenizer = Tokenizer.from_file(\"../tokenizers/basic_de_tokenizer.json\")\n",
    "\n",
    "\n",
    "# Preprocess and tokenize\n",
    "def tokenize(example):\n",
    "    en_encoded = en_tokenizer.encode(example[\"translation\"][\"en\"])\n",
    "    de_encoded = de_tokenizer.encode(example[\"translation\"][\"de\"])\n",
    "    return {\"en_input_ids\": en_encoded.ids, \"de_input_ids\": de_encoded.ids, \"en_length\": len(en_encoded.ids)}\n",
    "\n",
    "tokenized_ds = ds.map(tokenize, remove_columns=\"translation\", num_proc=os.cpu_count())\n",
    "# filter out very long and short sentences they appear to be bad!\n",
    "tokenized_ds = tokenized_ds.filter(lambda x: (x[\"en_length\"] >= 4) & (x[\"en_length\"] <= 45), num_proc=os.cpu_count())\n",
    "\n",
    "en_pad_id = en_tokenizer.token_to_id(\"[PAD]\")\n",
    "de_pad_id = de_tokenizer.token_to_id(\"[PAD]\")\n",
    "\n",
    "train_en_lengths = tokenized_ds[\"train\"][\"en_length\"]"
   ]
  },
  {
   "cell_type": "code",
   "execution_count": 5,
   "id": "352dcf7a",
   "metadata": {},
   "outputs": [],
   "source": [
    "class BatchSampler:\n",
    "    def __init__(self, lengths, batch_size):\n",
    "        \"\"\"Shuffle idea taken from https://pi-tau.github.io/posts/transformer/#token-embedding-layer\"\"\"\n",
    "        self.lengths = lengths\n",
    "        self.batch_size = batch_size\n",
    "\n",
    "    def __iter__(self):\n",
    "        indicies = list(range(len(self.lengths)))\n",
    "        shuffle(indicies)\n",
    "\n",
    "        # yeild a pool of size 200 batch size\n",
    "        step = 200 * self.batch_size\n",
    "        for pool_start in range(0, len(self.lengths), step):\n",
    "            pool = indicies[pool_start : pool_start + step]\n",
    "            pool_sorted_by_lengths = sorted(pool, key=lambda i: self.lengths[i])\n",
    "\n",
    "            for i in range(0, step, self.batch_size):\n",
    "                yield pool_sorted_by_lengths[i : i + self.batch_size]\n",
    "\n",
    "    def __len__(self):\n",
    "        return len(self.lengths) // self.batch_size\n",
    "    \n",
    "\n",
    "def collate_fn(batch):\n",
    "    seq_en_token_ids = [Tensor(x[\"en_input_ids\"]) for x in batch]\n",
    "    en_tokens_padded = pad_sequence(seq_en_token_ids, batch_first=True, padding_value=en_pad_id)\n",
    "    \n",
    "    seq_de_token_ids = [Tensor(x[\"de_input_ids\"]) for x in batch]\n",
    "    de_tokens_padded = pad_sequence(seq_de_token_ids, batch_first=True, padding_value=de_pad_id)\n",
    "\n",
    "    return en_tokens_padded, de_tokens_padded"
   ]
  },
  {
   "cell_type": "code",
   "execution_count": 6,
   "id": "74dc2c9f",
   "metadata": {},
   "outputs": [],
   "source": [
    "dataloader = DataLoader(\n",
    "    dataset = tokenized_ds[\"train\"].remove_columns(\"en_length\").with_format(\"torch\", device=device),\n",
    "    batch_sampler=BatchSampler(train_en_lengths, BATCH_SIZE),\n",
    "    collate_fn=collate_fn,\n",
    ")\n",
    "\n",
    "for en_tokens_padded, de_tokens_padded in dataloader:\n",
    "    break"
   ]
  },
  {
   "cell_type": "code",
   "execution_count": 7,
   "id": "03bd366a",
   "metadata": {},
   "outputs": [],
   "source": [
    "source_key_padding_mask = (en_tokens_padded == en_pad_id)"
   ]
  },
  {
   "cell_type": "code",
   "execution_count": 8,
   "id": "873e726f",
   "metadata": {},
   "outputs": [],
   "source": [
    "d_model=512\n",
    "d_inner_layer=2048\n",
    "n_heads=8\n",
    "n_encoder_stacks=7\n",
    "n_decoder_stacks=7\n",
    "source_vocab_size=en_tokenizer.get_vocab_size()\n",
    "target_vocab_size = de_tokenizer.get_vocab_size()"
   ]
  },
  {
   "cell_type": "code",
   "execution_count": 9,
   "id": "22a59b78",
   "metadata": {},
   "outputs": [],
   "source": [
    "encoder_decoder_model = EncoderDecoder(\n",
    "    d_model=d_model,\n",
    "    d_inner_layer=d_inner_layer,\n",
    "    n_heads=n_heads,\n",
    "    n_encoder_stacks=n_encoder_stacks,\n",
    "    n_decoder_stacks=n_decoder_stacks,\n",
    "    source_vocab_size=source_vocab_size,\n",
    "    target_vocab_size=target_vocab_size,\n",
    "    input_id_encoder_factory=make_input_id_encoder,\n",
    "    encoder_factory=make_encoder,\n",
    "    decoder_factory=make_decoder,\n",
    ").to(device)"
   ]
  },
  {
   "cell_type": "code",
   "execution_count": 10,
   "id": "c31237d1",
   "metadata": {},
   "outputs": [],
   "source": [
    "encoder_decoder_model.forward(\n",
    "    target_ids=de_tokens_padded, source_ids=en_tokens_padded, source_key_padding_mask=source_key_padding_mask\n",
    ")"
   ]
  }
 ],
 "metadata": {
  "kernelspec": {
   "display_name": "attention-recreation (3.12.10)",
   "language": "python",
   "name": "python3"
  },
  "language_info": {
   "codemirror_mode": {
    "name": "ipython",
    "version": 3
   },
   "file_extension": ".py",
   "mimetype": "text/x-python",
   "name": "python",
   "nbconvert_exporter": "python",
   "pygments_lexer": "ipython3",
   "version": "3.12.10"
  }
 },
 "nbformat": 4,
 "nbformat_minor": 5
}
