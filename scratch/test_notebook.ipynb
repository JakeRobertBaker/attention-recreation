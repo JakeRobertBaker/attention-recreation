{
 "cells": [
  {
   "cell_type": "code",
   "execution_count": 2,
   "id": "ad4d0283",
   "metadata": {},
   "outputs": [],
   "source": [
    "from attention_recreation.model import EncoderDecoder, make_encoder, make_input_id_encoder"
   ]
  },
  {
   "cell_type": "code",
   "execution_count": 3,
   "id": "22a59b78",
   "metadata": {},
   "outputs": [
    {
     "data": {
      "text/plain": [
       "EncoderDecoder(\n",
       "  (source_id_encoder): InputIdEncoder(\n",
       "    (token_encoder): Embedding(30000, 512)\n",
       "    (positional_encoder): SinePositionEncoder(\n",
       "      (dropout): Dropout(p=0.1, inplace=False)\n",
       "    )\n",
       "  )\n",
       "  (target_id_encoder): InputIdEncoder(\n",
       "    (token_encoder): Embedding(30000, 512)\n",
       "    (positional_encoder): SinePositionEncoder(\n",
       "      (dropout): Dropout(p=0.1, inplace=False)\n",
       "    )\n",
       "  )\n",
       "  (encoder): Encoder(\n",
       "    (layers): ModuleList(\n",
       "      (0-6): 7 x EncoderLayer(\n",
       "        (mha_layer_norm): LayerNorm((512,), eps=1e-05, elementwise_affine=True)\n",
       "        (mha_sublayer): MultiheadAttention(\n",
       "          (out_proj): NonDynamicallyQuantizableLinear(in_features=512, out_features=512, bias=True)\n",
       "        )\n",
       "        (mha_dropout): Dropout(p=0.1, inplace=False)\n",
       "        (mlp_layer_norm): LayerNorm((512,), eps=1e-05, elementwise_affine=True)\n",
       "        (mlp_sublayer): Sequential(\n",
       "          (0): Linear(in_features=512, out_features=2048, bias=True)\n",
       "          (1): Linear(in_features=2048, out_features=512, bias=True)\n",
       "          (2): GELU(approximate='none')\n",
       "        )\n",
       "        (mlp_dropout): Dropout(p=0.1, inplace=False)\n",
       "      )\n",
       "    )\n",
       "    (final_layer_norm): LayerNorm((512,), eps=1e-05, elementwise_affine=True)\n",
       "  )\n",
       ")"
      ]
     },
     "execution_count": 3,
     "metadata": {},
     "output_type": "execute_result"
    }
   ],
   "source": [
    "EncoderDecoder(\n",
    "    d_model=512,\n",
    "    d_inner_layer=2048,\n",
    "    n_heads=4,\n",
    "    n_encoder_stacks=7,\n",
    "    n_decoder_stacks=7,\n",
    "    source_vocab_size=30_000,\n",
    "    target_vocab_size = 30_000,\n",
    "    input_id_encoder_factory = make_input_id_encoder,\n",
    "    encoder_factory = make_encoder,\n",
    ")"
   ]
  }
 ],
 "metadata": {
  "kernelspec": {
   "display_name": "attention-recreation (3.12.10)",
   "language": "python",
   "name": "python3"
  },
  "language_info": {
   "codemirror_mode": {
    "name": "ipython",
    "version": 3
   },
   "file_extension": ".py",
   "mimetype": "text/x-python",
   "name": "python",
   "nbconvert_exporter": "python",
   "pygments_lexer": "ipython3",
   "version": "3.12.10"
  }
 },
 "nbformat": 4,
 "nbformat_minor": 5
}
