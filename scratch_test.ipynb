{
 "cells": [
  {
   "cell_type": "code",
   "execution_count": null,
   "id": "e701e6f8",
   "metadata": {},
   "outputs": [],
   "source": [
    "from tokenizers import Tokenizer\n",
    "from tokenizers.processors import TemplateProcessing\n",
    "\n",
    "\n",
    "def get_shited_right_tokenizer(path: str) -> Tokenizer:\n",
    "    \"Return the tokenizer with padding and right shift with [SOS].\"\n",
    "    tokenizer:Tokenizer = Tokenizer.from_file(path)\n",
    "    tokenizer.enable_padding(pad_token=\"[PAD]\")\n",
    "    tokenizer.post_processor = TemplateProcessing(\n",
    "        single=\"[SOS] $A\",\n",
    "        special_tokens=[\n",
    "            (\"[SOS]\", tokenizer.token_to_id(\"[SOS]\")),\n",
    "        ],\n",
    "    )\n",
    "\n",
    "    return tokenizer"
   ]
  },
  {
   "cell_type": "code",
   "execution_count": 4,
   "id": "bbb27cb8",
   "metadata": {},
   "outputs": [],
   "source": [
    "en_path = \"tokenizers/basic_en_tokenizer.json\"\n",
    "en_tokenizer = get_shited_right_tokenizer(en_path)\n",
    "\n",
    "de_path = \"tokenizers/basic_de_tokenizer.json\"\n",
    "de_tokenizer = get_shited_right_tokenizer(de_path)"
   ]
  },
  {
   "cell_type": "code",
   "execution_count": 8,
   "id": "9cbfc351",
   "metadata": {},
   "outputs": [
    {
     "data": {
      "text/plain": [
       "[['[SOS]', 'Guten', 'Tag']]"
      ]
     },
     "execution_count": 8,
     "metadata": {},
     "output_type": "execute_result"
    }
   ],
   "source": [
    "outputs = de_tokenizer.encode_batch([\"Guten Tag\"])\n",
    "[out.tokens for out in outputs]"
   ]
  }
 ],
 "metadata": {
  "kernelspec": {
   "display_name": ".venv (3.12.10)",
   "language": "python",
   "name": "python3"
  },
  "language_info": {
   "codemirror_mode": {
    "name": "ipython",
    "version": 3
   },
   "file_extension": ".py",
   "mimetype": "text/x-python",
   "name": "python",
   "nbconvert_exporter": "python",
   "pygments_lexer": "ipython3",
   "version": "3.12.10"
  }
 },
 "nbformat": 4,
 "nbformat_minor": 5
}
