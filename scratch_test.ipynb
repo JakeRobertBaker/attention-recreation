{
 "cells": [
  {
   "cell_type": "code",
   "execution_count": 2,
   "id": "e5141673",
   "metadata": {},
   "outputs": [],
   "source": [
    "from tokenizers import Tokenizer\n",
    "from tokenizers.processors import TemplateProcessing\n",
    "import torch\n",
    "from torch import Tensor, nn"
   ]
  },
  {
   "cell_type": "code",
   "execution_count": 3,
   "id": "9a349b39",
   "metadata": {},
   "outputs": [],
   "source": [
    "en_tokenizer = Tokenizer = Tokenizer.from_file(\"tokenizers/basic_en_tokenizer.json\")\n",
    "output = en_tokenizer.encode(\"Hello, this is a test sentence\")"
   ]
  },
  {
   "cell_type": "code",
   "execution_count": 4,
   "id": "6aa9a8de",
   "metadata": {},
   "outputs": [],
   "source": [
    "encoder = nn.Embedding(num_embeddings=30_000, embedding_dim=512)"
   ]
  },
  {
   "cell_type": "code",
   "execution_count": null,
   "id": "409eb12d",
   "metadata": {},
   "outputs": [],
   "source": [
    "torch.tile"
   ]
  },
  {
   "cell_type": "code",
   "execution_count": 26,
   "id": "a62e717c",
   "metadata": {},
   "outputs": [],
   "source": [
    "example_ids = torch.LongTensor([0,1,2]).reshape(1,-1).tile(5,1)"
   ]
  },
  {
   "cell_type": "code",
   "execution_count": 29,
   "id": "2e2c009d",
   "metadata": {},
   "outputs": [
    {
     "data": {
      "text/plain": [
       "torch.Size([5, 3, 512])"
      ]
     },
     "execution_count": 29,
     "metadata": {},
     "output_type": "execute_result"
    }
   ],
   "source": [
    "encoder(example_ids).shape"
   ]
  },
  {
   "cell_type": "code",
   "execution_count": 27,
   "id": "dd5db90f",
   "metadata": {},
   "outputs": [
    {
     "data": {
      "text/plain": [
       "torch.Size([1, 512])"
      ]
     },
     "execution_count": 27,
     "metadata": {},
     "output_type": "execute_result"
    }
   ],
   "source": [
    "encoder(torch.LongTensor([1-1])).shape"
   ]
  }
 ],
 "metadata": {
  "kernelspec": {
   "display_name": ".venv (3.12.10)",
   "language": "python",
   "name": "python3"
  },
  "language_info": {
   "codemirror_mode": {
    "name": "ipython",
    "version": 3
   },
   "file_extension": ".py",
   "mimetype": "text/x-python",
   "name": "python",
   "nbconvert_exporter": "python",
   "pygments_lexer": "ipython3",
   "version": "3.12.10"
  }
 },
 "nbformat": 4,
 "nbformat_minor": 5
}
