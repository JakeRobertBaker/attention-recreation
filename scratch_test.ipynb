{
 "cells": [
  {
   "cell_type": "code",
   "execution_count": 1,
   "id": "fa1cf802",
   "metadata": {},
   "outputs": [],
   "source": [
    "from tokenizers import Tokenizer\n",
    "from tokenizers.processors import TemplateProcessing\n",
    "from model import InputIdEncoder, SinePositionEncoder\n",
    "import torch\n",
    "from torch import LongTensor"
   ]
  },
  {
   "cell_type": "code",
   "execution_count": 2,
   "id": "e5141673",
   "metadata": {},
   "outputs": [],
   "source": [
    "en_tokenizer = Tokenizer.from_file(\"tokenizers/basic_en_tokenizer.json\")\n",
    "en_tokenizer.enable_padding(pad_id = en_tokenizer.token_to_id(\"[PAD]\"),pad_token=\"[PAD]\")\n",
    "en_vocab_size = en_tokenizer.get_vocab_size()\n",
    "\n",
    "# TODO check bert base cased vocab size for comparison\n",
    "\n",
    "d_model = 512\n",
    "p_dropout=0\n",
    "\n",
    "sin_pos_enc = SinePositionEncoder(d_model=d_model, p_dropout=p_dropout)\n",
    "input_id_encoder = InputIdEncoder(vocab_size=en_vocab_size, d_model=d_model, positional_encoder=sin_pos_enc)\n",
    "outputs = en_tokenizer.encode_batch([\"Hello my name is Jake\", \"Donald Trump is VERY smart!!\", \"I love cheese!\"])\n",
    "token_ids = LongTensor([out.ids for out in outputs])"
   ]
  },
  {
   "cell_type": "code",
   "execution_count": 4,
   "id": "e0cc39d4",
   "metadata": {},
   "outputs": [
    {
     "data": {
      "text/plain": [
       "torch.Size([3, 7, 512])"
      ]
     },
     "execution_count": 4,
     "metadata": {},
     "output_type": "execute_result"
    }
   ],
   "source": [
    "input_id_encoder(token_ids).shape"
   ]
  }
 ],
 "metadata": {
  "kernelspec": {
   "display_name": "attention-recreation (3.12.10)",
   "language": "python",
   "name": "python3"
  },
  "language_info": {
   "codemirror_mode": {
    "name": "ipython",
    "version": 3
   },
   "file_extension": ".py",
   "mimetype": "text/x-python",
   "name": "python",
   "nbconvert_exporter": "python",
   "pygments_lexer": "ipython3",
   "version": "3.12.10"
  }
 },
 "nbformat": 4,
 "nbformat_minor": 5
}
