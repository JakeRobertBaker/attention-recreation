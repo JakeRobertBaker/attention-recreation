{
 "cells": [
  {
   "cell_type": "code",
   "execution_count": 1,
   "id": "231a92bf",
   "metadata": {},
   "outputs": [],
   "source": [
    "from datasets import load_dataset\n",
    "\n",
    "ds = load_dataset(\"Helsinki-NLP/opus-100\", \"de-en\")"
   ]
  },
  {
   "cell_type": "code",
   "execution_count": 2,
   "id": "5fe94dd6",
   "metadata": {},
   "outputs": [
    {
     "name": "stdout",
     "output_type": "stream",
     "text": [
      "It's greed that it's gonna be the death of you, 'cause you...\n"
     ]
    }
   ],
   "source": [
    "generator = (x[\"translation\"][\"en\"] for x in ds[\"train\"])\n",
    "\n",
    "for t in generator:\n",
    "    print(t)\n",
    "    break"
   ]
  },
  {
   "cell_type": "code",
   "execution_count": 3,
   "id": "b8de17cf",
   "metadata": {},
   "outputs": [
    {
     "name": "stdout",
     "output_type": "stream",
     "text": [
      "\n",
      "\n",
      "\n"
     ]
    }
   ],
   "source": [
    "from tokenizers import Tokenizer, decoders\n",
    "from tokenizers.models import BPE\n",
    "from tokenizers.normalizers import NFC\n",
    "from tokenizers.pre_tokenizers import Whitespace\n",
    "from tokenizers.trainers import BpeTrainer\n",
    "\n",
    "\n",
    "tokenizer = Tokenizer(BPE(unk_token=\"[UNK]\"))\n",
    "tokenizer.normalizer = NFC()\n",
    "tokenizer.pre_tokenizer = Whitespace()\n",
    "tokenizer.decoder = decoders.BPEDecoder()\n",
    "\n",
    "# TODO post proceesing will vary on inference role\n",
    "\n",
    "trainer = BpeTrainer(\n",
    "    min_frequency=2,\n",
    "    show_progress=True,\n",
    "    special_tokens=[\"[UNK]\", \"[PAD]\", \"[SOS]\", \"[EOS]\"],\n",
    ")\n",
    "\n",
    "tokenizer.train_from_iterator(generator, trainer)"
   ]
  },
  {
   "cell_type": "code",
   "execution_count": 4,
   "id": "c2167e90",
   "metadata": {},
   "outputs": [],
   "source": [
    "from pathlib import Path\n",
    "\n",
    "tokenizer_file = Path(\"./tokenizers\")\n",
    "tokenizer_name = \"test.json\"\n",
    "tokenizer_path = str(tokenizer_file/tokenizer_name)\n",
    "\n",
    "\n",
    "if not tokenizer_file.is_dir():\n",
    "    tokenizer_file.mkdir()\n",
    "\n",
    "tokenizer.save(tokenizer_path)"
   ]
  },
  {
   "cell_type": "code",
   "execution_count": 6,
   "id": "d8491d10",
   "metadata": {},
   "outputs": [
    {
     "data": {
      "text/plain": [
       "['Hello', '!', 'My', 'name', 'is', 'Jake', '!!']"
      ]
     },
     "execution_count": 6,
     "metadata": {},
     "output_type": "execute_result"
    }
   ],
   "source": [
    "tokenizer.encode(\"Hello! My name is Jake!!\").tokens"
   ]
  }
 ],
 "metadata": {
  "kernelspec": {
   "display_name": ".venv (3.12.10)",
   "language": "python",
   "name": "python3"
  },
  "language_info": {
   "codemirror_mode": {
    "name": "ipython",
    "version": 3
   },
   "file_extension": ".py",
   "mimetype": "text/x-python",
   "name": "python",
   "nbconvert_exporter": "python",
   "pygments_lexer": "ipython3",
   "version": "3.12.10"
  }
 },
 "nbformat": 4,
 "nbformat_minor": 5
}
